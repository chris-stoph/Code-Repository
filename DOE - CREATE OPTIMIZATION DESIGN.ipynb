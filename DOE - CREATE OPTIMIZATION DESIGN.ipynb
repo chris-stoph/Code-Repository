{
 "cells": [
  {
   "cell_type": "markdown",
   "metadata": {},
   "source": [
    "## IMPORT LIBRARIES"
   ]
  },
  {
   "cell_type": "code",
   "execution_count": 58,
   "metadata": {},
   "outputs": [],
   "source": [
    "# Import necessary libraries\n",
    "from pyDOE2 import fullfact  # for generating full factorial designs\n",
    "import numpy as np  # for numerical operations\n",
    "import pandas as pd  # for data manipulation and analysis\n",
    "import matplotlib.pyplot as plt  # for creating plots\n",
    "import itertools  # for iterators and looping functions\n",
    "import math  # for mathematical operations\n",
    "import statsmodels.formula.api as smf  # for statistical modeling\n",
    "from statsmodels.formula.api import ols  # for ordinary least squares regression\n",
    "import statsmodels.api as sm  # for statistical analysis and modeling\n",
    "from mpl_toolkits.mplot3d import Axes3D  # for creating 3D plots\n",
    "from itertools import combinations\n",
    "from pyDOE2 import bbdesign\n",
    "from scipy.optimize import minimize"
   ]
  },
  {
   "cell_type": "markdown",
   "metadata": {},
   "source": [
    "## CREATE BOX-BEHNKEN DESIGN PLAN"
   ]
  },
  {
   "cell_type": "code",
   "execution_count": 59,
   "metadata": {},
   "outputs": [],
   "source": [
    "# Function to generate a DataFrame with factor names and number of levels\n",
    "def generate_factor_levels_df(factors, levels):\n",
    "    if len(factors) != len(levels):\n",
    "        raise ValueError(\"Number of factors and levels must be the same.\")\n",
    "    if not all(isinstance(level, int) and level > 0 for level in levels):\n",
    "        raise ValueError(\"Levels must be positive integers.\")\n",
    "    \n",
    "    data = {'Factor': factors, 'Levels': levels}\n",
    "    df = pd.DataFrame(data)\n",
    "    return df\n",
    "\n",
    "# Function to generate a Box-Behnken design DataFrame\n",
    "def generate_bb_design(factor_levels_df, center_points):\n",
    "    factors = factor_levels_df['Factor'].tolist()\n",
    "    levels = factor_levels_df['Levels'].tolist()\n",
    "\n",
    "    design = bbdesign(len(factors), center=center_points)\n",
    "\n",
    "    # Create DataFrame with appropriate column names\n",
    "    column_names = factors.copy()\n",
    "    df = pd.DataFrame(design, columns=column_names)\n",
    "    return df\n",
    "\n"
   ]
  },
  {
   "cell_type": "code",
   "execution_count": 60,
   "metadata": {},
   "outputs": [
    {
     "name": "stdout",
     "output_type": "stream",
     "text": [
      "Excel file saved successfully.\n"
     ]
    }
   ],
   "source": [
    "try:\n",
    "    # Get user input for factors and levels\n",
    "    factors = input(\"Enter the factors separated by spaces: \").split()\n",
    "    levels = [int(x) for x in input(\"Enter the number of levels for each factor separated by spaces: \").split()]\n",
    "    factor_levels_df = generate_factor_levels_df(factors, levels)\n",
    "\n",
    "    # Check if there are at least 3 factors\n",
    "    if len(factors) < 3:\n",
    "        raise ValueError(\"Box-Behnken design requires at least 3 factors.\")\n",
    "\n",
    "    # Prompt the user for the number of center points\n",
    "    center_points = int(input(\"Enter the number of center points: \"))\n",
    "\n",
    "    # Generate Box-Behnken design plan\n",
    "    bb_design_plan = generate_bb_design(factor_levels_df, center_points)\n",
    "\n",
    "    # Insert a blank column after the \"Levels\" column\n",
    "    factor_levels_df.insert(2, '', '')\n",
    "\n",
    "    # Concatenate the factor levels DataFrame with the Box-Behnken design plan\n",
    "    merged_df = pd.concat([factor_levels_df, bb_design_plan], axis=1)\n",
    "\n",
    "    # Add a blank column with heading 'Results' after the last factor\n",
    "    merged_df.insert(len(merged_df.columns), 'Results', '')\n",
    "\n",
    "    # Prompt the user to input the Excel file name\n",
    "    excel_file_name = input(\"Enter the Excel file name: \")\n",
    "\n",
    "    # Append '.xlsx' extension if not provided\n",
    "    if not excel_file_name.endswith('.xlsx'):\n",
    "        excel_file_name += '.xlsx'\n",
    "\n",
    "    # Write the merged DataFrame to an Excel file\n",
    "    try:\n",
    "        merged_df.to_excel(excel_file_name, index=False)\n",
    "        print(\"Excel file saved successfully.\")\n",
    "    except Exception as e:\n",
    "        print(\"Error occurred while saving the Excel file:\", e)\n",
    "\n",
    "except ValueError as ve:\n",
    "    print(\"ValueError:\", ve)\n",
    "except Exception as e:\n",
    "    print(\"An error occurred:\", e)"
   ]
  }
 ],
 "metadata": {
  "kernelspec": {
   "display_name": "BiQ_env_20231205",
   "language": "python",
   "name": "python3"
  },
  "language_info": {
   "codemirror_mode": {
    "name": "ipython",
    "version": 3
   },
   "file_extension": ".py",
   "mimetype": "text/x-python",
   "name": "python",
   "nbconvert_exporter": "python",
   "pygments_lexer": "ipython3",
   "version": "3.10.4"
  }
 },
 "nbformat": 4,
 "nbformat_minor": 2
}
