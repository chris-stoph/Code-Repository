{
 "cells": [
  {
   "cell_type": "markdown",
   "metadata": {},
   "source": [
    "# IMPORT LIBRARIES"
   ]
  },
  {
   "cell_type": "code",
   "execution_count": 33,
   "metadata": {},
   "outputs": [],
   "source": [
    "import pandas as pd\n",
    "from tkinter import Tk, simpledialog, filedialog\n",
    "from scipy import stats\n",
    "from tabulate import tabulate\n"
   ]
  },
  {
   "cell_type": "markdown",
   "metadata": {},
   "source": [
    "# EXTRACT DATA AND PERFORM TEST"
   ]
  },
  {
   "cell_type": "code",
   "execution_count": 34,
   "metadata": {},
   "outputs": [
    {
     "name": "stdout",
     "output_type": "stream",
     "text": [
      "\n",
      "One-way ANOVA results:\n",
      "+------------------------------+---------+\n",
      "| Statistic                    |   Value |\n",
      "+==============================+=========+\n",
      "| F-statistic                  |   2.657 |\n",
      "+------------------------------+---------+\n",
      "| P-value                      |   0.074 |\n",
      "+------------------------------+---------+\n",
      "| Degrees of freedom (between) |   2     |\n",
      "+------------------------------+---------+\n",
      "| Degrees of freedom (within)  |  46     |\n",
      "+------------------------------+---------+\n",
      "\n",
      "Fail to reject the null hypothesis: There is no significant difference between groups.\n"
     ]
    }
   ],
   "source": [
    "def read_excel_file(file_path):\n",
    "    \"\"\"Reads an Excel file and returns a DataFrame.\"\"\"\n",
    "    try:\n",
    "        df = pd.read_excel(file_path)  # Read Excel file into a temporary DataFrame\n",
    "        df = df.dropna(axis=1, how='all')  # Drop columns that are entirely blank\n",
    "        return df  # Return the DataFrame\n",
    "    except Exception as e:\n",
    "        print(f\"Error reading Excel file: {e}\")  # Print error message if file reading fails\n",
    "        return None  # Return None if an error occurs\n",
    "\n",
    "def perform_one_way_anova(df, group_cols):\n",
    "    \"\"\"Performs one-way ANOVA and displays additional statistics.\"\"\"\n",
    "    try:\n",
    "        # Prepare data for ANOVA\n",
    "        data = [df[col] for col in group_cols]\n",
    "\n",
    "        # Perform one-way ANOVA\n",
    "        f_stat, p_value = stats.f_oneway(*data)\n",
    "\n",
    "        # Calculate degrees of freedom\n",
    "        df_between = len(group_cols) - 1\n",
    "        df_within = len(df) - len(group_cols)\n",
    "\n",
    "        # Prepare data for table\n",
    "        table_data = [\n",
    "            [\"F-statistic\", round(f_stat, 3)],\n",
    "            [\"P-value\", round(p_value, 3)],\n",
    "            [\"Degrees of freedom (between)\", df_between],\n",
    "            [\"Degrees of freedom (within)\", df_within]\n",
    "        ]\n",
    "        # Print table\n",
    "        print(\"\\nOne-way ANOVA results:\")\n",
    "        print(tabulate(table_data, headers=[\"Statistic\", \"Value\"], tablefmt=\"grid\"))\n",
    "\n",
    "        # Interpret the results\n",
    "        alpha = 0.05  # significance level\n",
    "        if p_value < alpha:\n",
    "            print(\"\\nReject the null hypothesis: There is a significant difference between at least two groups.\")\n",
    "        else:\n",
    "            print(\"\\nFail to reject the null hypothesis: There is no significant difference between groups.\")\n",
    "\n",
    "    except Exception as e:\n",
    "        print(f\"Error performing one-way ANOVA: {e}\")\n",
    "\n",
    "def get_user_column_selection(df):\n",
    "    \"\"\"Gets user input for selecting columns using dialog boxes.\"\"\"\n",
    "    root = Tk()\n",
    "    root.withdraw()  # Hide the main window\n",
    "\n",
    "    # Get column names from the DataFrame\n",
    "    columns = df.columns.tolist()\n",
    "\n",
    "    while True:\n",
    "        num_groups = simpledialog.askinteger(\"Input\", \"Enter the number of groups (must be 3 or more):\")\n",
    "        if num_groups is None:\n",
    "            return None, None  # User canceled the input\n",
    "        elif num_groups >= 3:\n",
    "            break\n",
    "        else:\n",
    "            messagebox.showerror(\"Error\", \"Please enter 3 or more groups.\")\n",
    "\n",
    "    group_cols = []\n",
    "    for i in range(num_groups):\n",
    "        group_col = simpledialog.askstring(\"Input\", f\"Enter the column name for group {i + 1}:\\nAvailable columns: {', '.join(columns)}\")\n",
    "        if group_col is None:\n",
    "            return None, None  # User canceled the input\n",
    "        group_cols.append(group_col)\n",
    "\n",
    "    return group_cols\n",
    "\n",
    "def main():\n",
    "    # Open a file dialog to select Excel file\n",
    "    root = Tk()\n",
    "    root.withdraw()  # Hide the main window\n",
    "    file_path = filedialog.askopenfilename(filetypes=[(\"Excel files\", \"*.xlsx\"), (\"All files\", \"*.*\")])\n",
    "    if not file_path:\n",
    "        print(\"No file selected.\")\n",
    "        return\n",
    "\n",
    "    # Read Excel file into DataFrame\n",
    "    df = read_excel_file(file_path)\n",
    "    if df is None:\n",
    "        print(\"Error reading Excel file.\")\n",
    "        return\n",
    "\n",
    "    # Get user input for selecting columns\n",
    "    group_cols = get_user_column_selection(df)\n",
    "    if group_cols is None:\n",
    "        print(\"Error: User canceled the input or entered invalid data.\")\n",
    "        return\n",
    "\n",
    "    # Perform one-way ANOVA and display table\n",
    "    perform_one_way_anova(df, group_cols)\n",
    "\n",
    "if __name__ == \"__main__\":\n",
    "    main()\n"
   ]
  }
 ],
 "metadata": {
  "kernelspec": {
   "display_name": "BiQ_env_20231205",
   "language": "python",
   "name": "python3"
  },
  "language_info": {
   "codemirror_mode": {
    "name": "ipython",
    "version": 3
   },
   "file_extension": ".py",
   "mimetype": "text/x-python",
   "name": "python",
   "nbconvert_exporter": "python",
   "pygments_lexer": "ipython3",
   "version": "3.10.13"
  }
 },
 "nbformat": 4,
 "nbformat_minor": 2
}
