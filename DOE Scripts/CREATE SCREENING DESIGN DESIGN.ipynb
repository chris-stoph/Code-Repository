{
 "cells": [
  {
   "cell_type": "markdown",
   "metadata": {},
   "source": [
    "## IMPORT LIBRARIES"
   ]
  },
  {
   "cell_type": "code",
   "execution_count": 1,
   "metadata": {},
   "outputs": [],
   "source": [
    "# Import necessary libraries\n",
    "from pyDOE2 import fracfact\n",
    "from pyDOE2 import ff2n\n",
    "import numpy as np\n",
    "import pandas as pd\n",
    "from statsmodels.stats.anova import anova_lm\n",
    "from statsmodels.formula.api import ols\n",
    "from statsmodels.stats.outliers_influence import variance_inflation_factor\n",
    "from statsmodels.tools.tools import add_constant\n",
    "from statsmodels.stats.api import anova_lm\n",
    "from statsmodels.stats.multicomp import pairwise_tukeyhsd\n",
    "from statsmodels.stats.multicomp import MultiComparison\n",
    "from statsmodels.stats.libqsturng import psturng\n",
    "from statsmodels.stats.multitest import multipletests\n",
    "from scipy.stats import t\n",
    "import itertools\n",
    "from itertools import combinations\n",
    "from pyDOE2 import pbdesign\n"
   ]
  },
  {
   "cell_type": "markdown",
   "metadata": {},
   "source": [
    "## CREATE FACTORIAL DESIGN PLAN"
   ]
  },
  {
   "cell_type": "code",
   "execution_count": 2,
   "metadata": {},
   "outputs": [],
   "source": [
    "# Function to generate a DataFrame with factor names\n",
    "def generate_factors_df(factors):\n",
    "    \"\"\"\n",
    "    Generate a DataFrame with factor names.\n",
    "\n",
    "    Args:\n",
    "    - factors (list): List of factor names.\n",
    "\n",
    "    Returns:\n",
    "    - df (DataFrame): DataFrame representing factor names.\n",
    "    \"\"\"\n",
    "    data = {'Factor': factors}\n",
    "    df = pd.DataFrame(data)\n",
    "    return df\n",
    "\n",
    "# Function to generate a Plackett-Burman design matrix based on given factors\n",
    "def plackett_burman_design(factors_df):\n",
    "    \"\"\"\n",
    "    Generates a Plackett-Burman design matrix based on the given factors.\n",
    "\n",
    "    Args:\n",
    "    - factors_df (DataFrame): DataFrame containing the factor names.\n",
    "\n",
    "    Returns:\n",
    "    - df (DataFrame): DataFrame containing the design matrix.\n",
    "    \"\"\"\n",
    "    factors = factors_df['Factor'].tolist()\n",
    "    \n",
    "    # Generate Plackett-Burman design\n",
    "    design = pbdesign(len(factors))\n",
    "\n",
    "    design = -design\n",
    "\n",
    "    # Convert design matrix back to original factors\n",
    "    df = pd.DataFrame(design, columns=factors)\n",
    "    \n",
    "    return df\n",
    "\n",
    "# Define the custom mapping function\n",
    "def custom_mapping(value):\n",
    "    \"\"\"\n",
    "    Custom mapping function to transform values according to specific rules.\n",
    "\n",
    "    Args:\n",
    "    - value (int): Value representing factor level.\n",
    "\n",
    "    Returns:\n",
    "    - mapped_value (int): Transformed value.\n",
    "    \"\"\"\n",
    "    # Map values according to specific rules\n",
    "    if value == 1:\n",
    "        return 0 if 2 in design_matrix.values.flatten() else 1\n",
    "    elif value == 2:\n",
    "        return 1\n",
    "    elif value == 0:\n",
    "        return -1\n",
    "    else:\n",
    "        return value"
   ]
  },
  {
   "cell_type": "code",
   "execution_count": 3,
   "metadata": {},
   "outputs": [
    {
     "name": "stdout",
     "output_type": "stream",
     "text": [
      "Excel file saved successfully.\n"
     ]
    }
   ],
   "source": [
    "# Prompt user for factors\n",
    "while True:\n",
    "    try:\n",
    "        factors = input(\"Enter the factors separated by spaces: \").split()\n",
    "        factors_df = generate_factors_df(factors)\n",
    "        break\n",
    "    except ValueError:\n",
    "        print(\"Invalid input. Please enter factors separated by spaces.\")\n",
    "\n",
    "# Generate Plackett-Burman design based on factors\n",
    "design_matrix = plackett_burman_design(factors_df)\n",
    "\n",
    "# Apply custom mapping to each value in the design matrix\n",
    "design_matrix = design_matrix.applymap(custom_mapping)\n",
    "\n",
    "# Prompt the user to enter the number of replicates\n",
    "while True:\n",
    "    try:\n",
    "        num_replicates = int(input(\"Enter the number of replicates: \"))\n",
    "        if num_replicates <= 0:\n",
    "            raise ValueError(\"Number of replicates must be a positive integer.\")\n",
    "        break\n",
    "    except ValueError:\n",
    "        print(\"Invalid input. Please enter a positive integer for the number of replicates.\")\n",
    "\n",
    "# Concatenate the design matrix DataFrame with itself\n",
    "duplicated_design = pd.concat([design_matrix] * num_replicates, ignore_index=True)\n",
    "\n",
    "# Merge the two DataFrames\n",
    "merged_df = pd.concat([factors_df, pd.DataFrame(columns=['']), duplicated_design], axis=1)\n",
    "\n",
    "# Add a blank column with heading 'Results' after the last factor\n",
    "merged_df.insert(len(merged_df.columns), 'Results', '')\n",
    "\n",
    "# Prompt the user to input the Excel file name\n",
    "excel_file_name = input(\"Enter the Excel file name: \")\n",
    "\n",
    "# Append '.xlsx' extension if not provided\n",
    "if not excel_file_name.endswith('.xlsx'):\n",
    "    excel_file_name += '.xlsx'\n",
    "\n",
    "# Write the merged DataFrame to an Excel file\n",
    "try:\n",
    "    merged_df.to_excel(excel_file_name, index=False)\n",
    "    print(\"Excel file saved successfully.\")\n",
    "except Exception as e:\n",
    "    print(\"Error occurred while saving the Excel file:\", e)"
   ]
  }
 ],
 "metadata": {
  "kernelspec": {
   "display_name": "BiQ_env_20231205",
   "language": "python",
   "name": "python3"
  },
  "language_info": {
   "codemirror_mode": {
    "name": "ipython",
    "version": 3
   },
   "file_extension": ".py",
   "mimetype": "text/x-python",
   "name": "python",
   "nbconvert_exporter": "python",
   "pygments_lexer": "ipython3",
   "version": "3.10.4"
  }
 },
 "nbformat": 4,
 "nbformat_minor": 2
}
